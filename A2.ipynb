{
 "cells": [
  {
   "cell_type": "code",
   "execution_count": 19,
   "metadata": {},
   "outputs": [
    {
     "data": {
      "text/html": [
       "<pre style=\"white-space:pre;overflow-x:auto;line-height:normal;font-family:Menlo,'DejaVu Sans Mono',consolas,'Courier New',monospace\"><span style=\"color: #808000; text-decoration-color: #808000; font-weight: bold\">c:\\Users\\Faizan\\AppData\\Local\\Programs\\Python\\Python310\\lib\\site-packages\\airflow\\__init__.py:</span><span style=\"color: #808000; text-decoration-color: #808000; font-weight: bold\">35</span><span style=\"color: #808000; text-decoration-color: #808000; font-weight: bold\"> RuntimeWarning</span><span style=\"color: #808000; text-decoration-color: #808000\">: Airflow currently can be run on POSIX-compliant Operating Systems. For development, it is regularly tested on fairly modern Linux Distros and recent versions of macOS. On Windows you can run it via WSL2 </span><span style=\"color: #808000; text-decoration-color: #808000; font-weight: bold\">(</span><span style=\"color: #808000; text-decoration-color: #808000\">Windows Subsystem for Linux </span><span style=\"color: #808000; text-decoration-color: #808000; font-weight: bold\">2</span><span style=\"color: #808000; text-decoration-color: #808000; font-weight: bold\">)</span><span style=\"color: #808000; text-decoration-color: #808000\"> or via Linux Containers. The work to add Windows support is tracked via </span><span style=\"color: #808000; text-decoration-color: #808000; text-decoration: underline\">https://github.com/apache/airflow/issues/10388,</span><span style=\"color: #808000; text-decoration-color: #808000\"> but it is not a high priority.</span>\n",
       "</pre>\n"
      ],
      "text/plain": [
       "\u001b[1;33mc:\\Users\\Faizan\\AppData\\Local\\Programs\\Python\\Python310\\lib\\site-packages\\airflow\\__init__.py:\u001b[0m\u001b[1;33m35\u001b[0m\u001b[1;33m RuntimeWarning\u001b[0m\u001b[33m: Airflow currently can be run on POSIX-compliant Operating Systems. For development, it is regularly tested on fairly modern Linux Distros and recent versions of macOS. On Windows you can run it via WSL2 \u001b[0m\u001b[1;33m(\u001b[0m\u001b[33mWindows Subsystem for Linux \u001b[0m\u001b[1;33m2\u001b[0m\u001b[1;33m)\u001b[0m\u001b[33m or via Linux Containers. The work to add Windows support is tracked via \u001b[0m\u001b[4;33mhttps://github.com/apache/airflow/issues/10388,\u001b[0m\u001b[33m but it is not a high priority.\u001b[0m\n"
      ]
     },
     "metadata": {},
     "output_type": "display_data"
    },
    {
     "name": "stdout",
     "output_type": "stream",
     "text": [
      "[\u001b[34m2024-05-09T18:07:46.576+0500\u001b[0m] {\u001b[34mlogging_config.py:\u001b[0m71} ERROR\u001b[0m - Unable to load the config, contains a configuration error.\u001b[0m\n"
     ]
    },
    {
     "ename": "ValueError",
     "evalue": "Unable to configure formatter 'airflow'",
     "output_type": "error",
     "traceback": [
      "\u001b[1;31m---------------------------------------------------------------------------\u001b[0m",
      "\u001b[1;31mAttributeError\u001b[0m                            Traceback (most recent call last)",
      "File \u001b[1;32mc:\\Users\\Faizan\\AppData\\Local\\Programs\\Python\\Python310\\lib\\logging\\config.py:94\u001b[0m, in \u001b[0;36m_resolve\u001b[1;34m(name)\u001b[0m\n\u001b[0;32m     93\u001b[0m \u001b[38;5;28;01mtry\u001b[39;00m:\n\u001b[1;32m---> 94\u001b[0m     found \u001b[38;5;241m=\u001b[39m \u001b[38;5;28;43mgetattr\u001b[39;49m\u001b[43m(\u001b[49m\u001b[43mfound\u001b[49m\u001b[43m,\u001b[49m\u001b[43m \u001b[49m\u001b[43mn\u001b[49m\u001b[43m)\u001b[49m\n\u001b[0;32m     95\u001b[0m \u001b[38;5;28;01mexcept\u001b[39;00m \u001b[38;5;167;01mAttributeError\u001b[39;00m:\n",
      "\u001b[1;31mAttributeError\u001b[0m: partially initialized module 'airflow' has no attribute 'utils' (most likely due to a circular import)",
      "\nDuring handling of the above exception, another exception occurred:\n",
      "\u001b[1;31mAttributeError\u001b[0m                            Traceback (most recent call last)",
      "File \u001b[1;32mc:\\Users\\Faizan\\AppData\\Local\\Programs\\Python\\Python310\\lib\\logging\\config.py:544\u001b[0m, in \u001b[0;36mDictConfigurator.configure\u001b[1;34m(self)\u001b[0m\n\u001b[0;32m    543\u001b[0m \u001b[38;5;28;01mtry\u001b[39;00m:\n\u001b[1;32m--> 544\u001b[0m     formatters[name] \u001b[38;5;241m=\u001b[39m \u001b[38;5;28;43mself\u001b[39;49m\u001b[38;5;241;43m.\u001b[39;49m\u001b[43mconfigure_formatter\u001b[49m\u001b[43m(\u001b[49m\n\u001b[0;32m    545\u001b[0m \u001b[43m                                        \u001b[49m\u001b[43mformatters\u001b[49m\u001b[43m[\u001b[49m\u001b[43mname\u001b[49m\u001b[43m]\u001b[49m\u001b[43m)\u001b[49m\n\u001b[0;32m    546\u001b[0m \u001b[38;5;28;01mexcept\u001b[39;00m \u001b[38;5;167;01mException\u001b[39;00m \u001b[38;5;28;01mas\u001b[39;00m e:\n",
      "File \u001b[1;32mc:\\Users\\Faizan\\AppData\\Local\\Programs\\Python\\Python310\\lib\\logging\\config.py:676\u001b[0m, in \u001b[0;36mDictConfigurator.configure_formatter\u001b[1;34m(self, config)\u001b[0m\n\u001b[0;32m    675\u001b[0m \u001b[38;5;28;01melse\u001b[39;00m:\n\u001b[1;32m--> 676\u001b[0m     c \u001b[38;5;241m=\u001b[39m \u001b[43m_resolve\u001b[49m\u001b[43m(\u001b[49m\u001b[43mcname\u001b[49m\u001b[43m)\u001b[49m\n\u001b[0;32m    678\u001b[0m \u001b[38;5;66;03m# A TypeError would be raised if \"validate\" key is passed in with a formatter callable\u001b[39;00m\n\u001b[0;32m    679\u001b[0m \u001b[38;5;66;03m# that does not accept \"validate\" as a parameter\u001b[39;00m\n",
      "File \u001b[1;32mc:\\Users\\Faizan\\AppData\\Local\\Programs\\Python\\Python310\\lib\\logging\\config.py:97\u001b[0m, in \u001b[0;36m_resolve\u001b[1;34m(name)\u001b[0m\n\u001b[0;32m     96\u001b[0m         \u001b[38;5;28m__import__\u001b[39m(used)\n\u001b[1;32m---> 97\u001b[0m         found \u001b[38;5;241m=\u001b[39m \u001b[38;5;28;43mgetattr\u001b[39;49m\u001b[43m(\u001b[49m\u001b[43mfound\u001b[49m\u001b[43m,\u001b[49m\u001b[43m \u001b[49m\u001b[43mn\u001b[49m\u001b[43m)\u001b[49m\n\u001b[0;32m     98\u001b[0m \u001b[38;5;28;01mreturn\u001b[39;00m found\n",
      "\u001b[1;31mAttributeError\u001b[0m: partially initialized module 'airflow' has no attribute 'utils' (most likely due to a circular import)",
      "\nThe above exception was the direct cause of the following exception:\n",
      "\u001b[1;31mValueError\u001b[0m                                Traceback (most recent call last)",
      "Cell \u001b[1;32mIn[19], line 2\u001b[0m\n\u001b[0;32m      1\u001b[0m \u001b[38;5;28;01mfrom\u001b[39;00m \u001b[38;5;21;01mdatetime\u001b[39;00m \u001b[38;5;28;01mimport\u001b[39;00m timedelta\n\u001b[1;32m----> 2\u001b[0m \u001b[38;5;28;01mfrom\u001b[39;00m \u001b[38;5;21;01mairflow\u001b[39;00m\u001b[38;5;21;01m.\u001b[39;00m\u001b[38;5;21;01mmodels\u001b[39;00m \u001b[38;5;28;01mimport\u001b[39;00m DAG\n\u001b[0;32m      3\u001b[0m \u001b[38;5;28;01mfrom\u001b[39;00m \u001b[38;5;21;01mairflow\u001b[39;00m\u001b[38;5;21;01m.\u001b[39;00m\u001b[38;5;21;01moperators\u001b[39;00m\u001b[38;5;21;01m.\u001b[39;00m\u001b[38;5;21;01mpython_operator\u001b[39;00m \u001b[38;5;28;01mimport\u001b[39;00m PythonOperator\n\u001b[0;32m      4\u001b[0m \u001b[38;5;66;03m# from airflow.utils.dates import days_ago\u001b[39;00m\n",
      "File \u001b[1;32mc:\\Users\\Faizan\\AppData\\Local\\Programs\\Python\\Python310\\lib\\site-packages\\airflow\\__init__.py:73\u001b[0m\n\u001b[0;32m     67\u001b[0m \u001b[38;5;66;03m# Perform side-effects unless someone has explicitly opted out before import\u001b[39;00m\n\u001b[0;32m     68\u001b[0m \u001b[38;5;66;03m# WARNING: DO NOT USE THIS UNLESS YOU REALLY KNOW WHAT YOU'RE DOING.\u001b[39;00m\n\u001b[0;32m     69\u001b[0m \u001b[38;5;66;03m# This environment variable prevents proper initialization, and things like\u001b[39;00m\n\u001b[0;32m     70\u001b[0m \u001b[38;5;66;03m# configs, logging, the ORM, etc. will be broken. It is only useful if you only\u001b[39;00m\n\u001b[0;32m     71\u001b[0m \u001b[38;5;66;03m# access certain trivial constants and free functions (e.g. `__version__`).\u001b[39;00m\n\u001b[0;32m     72\u001b[0m \u001b[38;5;28;01mif\u001b[39;00m \u001b[38;5;129;01mnot\u001b[39;00m os\u001b[38;5;241m.\u001b[39menviron\u001b[38;5;241m.\u001b[39mget(\u001b[38;5;124m\"\u001b[39m\u001b[38;5;124m_AIRFLOW__AS_LIBRARY\u001b[39m\u001b[38;5;124m\"\u001b[39m, \u001b[38;5;28;01mNone\u001b[39;00m):\n\u001b[1;32m---> 73\u001b[0m     \u001b[43msettings\u001b[49m\u001b[38;5;241;43m.\u001b[39;49m\u001b[43minitialize\u001b[49m\u001b[43m(\u001b[49m\u001b[43m)\u001b[49m\n\u001b[0;32m     75\u001b[0m \u001b[38;5;66;03m# Things to lazy import in form {local_name: ('target_module', 'target_name', 'deprecated')}\u001b[39;00m\n\u001b[0;32m     76\u001b[0m __lazy_imports: \u001b[38;5;28mdict\u001b[39m[\u001b[38;5;28mstr\u001b[39m, \u001b[38;5;28mtuple\u001b[39m[\u001b[38;5;28mstr\u001b[39m, \u001b[38;5;28mstr\u001b[39m, \u001b[38;5;28mbool\u001b[39m]] \u001b[38;5;241m=\u001b[39m {\n\u001b[0;32m     77\u001b[0m     \u001b[38;5;124m\"\u001b[39m\u001b[38;5;124mDAG\u001b[39m\u001b[38;5;124m\"\u001b[39m: (\u001b[38;5;124m\"\u001b[39m\u001b[38;5;124m.models.dag\u001b[39m\u001b[38;5;124m\"\u001b[39m, \u001b[38;5;124m\"\u001b[39m\u001b[38;5;124mDAG\u001b[39m\u001b[38;5;124m\"\u001b[39m, \u001b[38;5;28;01mFalse\u001b[39;00m),\n\u001b[0;32m     78\u001b[0m     \u001b[38;5;124m\"\u001b[39m\u001b[38;5;124mDataset\u001b[39m\u001b[38;5;124m\"\u001b[39m: (\u001b[38;5;124m\"\u001b[39m\u001b[38;5;124m.datasets\u001b[39m\u001b[38;5;124m\"\u001b[39m, \u001b[38;5;124m\"\u001b[39m\u001b[38;5;124mDataset\u001b[39m\u001b[38;5;124m\"\u001b[39m, \u001b[38;5;28;01mFalse\u001b[39;00m),\n\u001b[1;32m   (...)\u001b[0m\n\u001b[0;32m     82\u001b[0m     \u001b[38;5;124m\"\u001b[39m\u001b[38;5;124mAirflowException\u001b[39m\u001b[38;5;124m\"\u001b[39m: (\u001b[38;5;124m\"\u001b[39m\u001b[38;5;124m.exceptions\u001b[39m\u001b[38;5;124m\"\u001b[39m, \u001b[38;5;124m\"\u001b[39m\u001b[38;5;124mAirflowException\u001b[39m\u001b[38;5;124m\"\u001b[39m, \u001b[38;5;28;01mTrue\u001b[39;00m),\n\u001b[0;32m     83\u001b[0m }\n",
      "File \u001b[1;32mc:\\Users\\Faizan\\AppData\\Local\\Programs\\Python\\Python310\\lib\\site-packages\\airflow\\settings.py:531\u001b[0m, in \u001b[0;36minitialize\u001b[1;34m()\u001b[0m\n\u001b[0;32m    529\u001b[0m import_local_settings()\n\u001b[0;32m    530\u001b[0m \u001b[38;5;28;01mglobal\u001b[39;00m LOGGING_CLASS_PATH\n\u001b[1;32m--> 531\u001b[0m LOGGING_CLASS_PATH \u001b[38;5;241m=\u001b[39m \u001b[43mconfigure_logging\u001b[49m\u001b[43m(\u001b[49m\u001b[43m)\u001b[49m\n\u001b[0;32m    532\u001b[0m State\u001b[38;5;241m.\u001b[39mstate_color\u001b[38;5;241m.\u001b[39mupdate(STATE_COLORS)\n\u001b[0;32m    534\u001b[0m configure_adapters()\n",
      "File \u001b[1;32mc:\\Users\\Faizan\\AppData\\Local\\Programs\\Python\\Python310\\lib\\site-packages\\airflow\\logging_config.py:74\u001b[0m, in \u001b[0;36mconfigure_logging\u001b[1;34m()\u001b[0m\n\u001b[0;32m     71\u001b[0m     log\u001b[38;5;241m.\u001b[39merror(\u001b[38;5;124m\"\u001b[39m\u001b[38;5;124mUnable to load the config, contains a configuration error.\u001b[39m\u001b[38;5;124m\"\u001b[39m)\n\u001b[0;32m     72\u001b[0m     \u001b[38;5;66;03m# When there is an error in the config, escalate the exception\u001b[39;00m\n\u001b[0;32m     73\u001b[0m     \u001b[38;5;66;03m# otherwise Airflow would silently fall back on the default config\u001b[39;00m\n\u001b[1;32m---> 74\u001b[0m     \u001b[38;5;28;01mraise\u001b[39;00m e\n\u001b[0;32m     76\u001b[0m validate_logging_config(logging_config)\n\u001b[0;32m     78\u001b[0m \u001b[38;5;28;01mreturn\u001b[39;00m logging_class_path\n",
      "File \u001b[1;32mc:\\Users\\Faizan\\AppData\\Local\\Programs\\Python\\Python310\\lib\\site-packages\\airflow\\logging_config.py:69\u001b[0m, in \u001b[0;36mconfigure_logging\u001b[1;34m()\u001b[0m\n\u001b[0;32m     66\u001b[0m             task_handler_config[\u001b[38;5;124m\"\u001b[39m\u001b[38;5;124mfilters\u001b[39m\u001b[38;5;124m\"\u001b[39m]\u001b[38;5;241m.\u001b[39mappend(\u001b[38;5;124m\"\u001b[39m\u001b[38;5;124mmask_secrets\u001b[39m\u001b[38;5;124m\"\u001b[39m)\n\u001b[0;32m     68\u001b[0m     \u001b[38;5;66;03m# Try to init logging\u001b[39;00m\n\u001b[1;32m---> 69\u001b[0m     \u001b[43mdictConfig\u001b[49m\u001b[43m(\u001b[49m\u001b[43mlogging_config\u001b[49m\u001b[43m)\u001b[49m\n\u001b[0;32m     70\u001b[0m \u001b[38;5;28;01mexcept\u001b[39;00m (\u001b[38;5;167;01mValueError\u001b[39;00m, \u001b[38;5;167;01mKeyError\u001b[39;00m) \u001b[38;5;28;01mas\u001b[39;00m e:\n\u001b[0;32m     71\u001b[0m     log\u001b[38;5;241m.\u001b[39merror(\u001b[38;5;124m\"\u001b[39m\u001b[38;5;124mUnable to load the config, contains a configuration error.\u001b[39m\u001b[38;5;124m\"\u001b[39m)\n",
      "File \u001b[1;32mc:\\Users\\Faizan\\AppData\\Local\\Programs\\Python\\Python310\\lib\\logging\\config.py:811\u001b[0m, in \u001b[0;36mdictConfig\u001b[1;34m(config)\u001b[0m\n\u001b[0;32m    809\u001b[0m \u001b[38;5;28;01mdef\u001b[39;00m \u001b[38;5;21mdictConfig\u001b[39m(config):\n\u001b[0;32m    810\u001b[0m     \u001b[38;5;124;03m\"\"\"Configure logging using a dictionary.\"\"\"\u001b[39;00m\n\u001b[1;32m--> 811\u001b[0m     \u001b[43mdictConfigClass\u001b[49m\u001b[43m(\u001b[49m\u001b[43mconfig\u001b[49m\u001b[43m)\u001b[49m\u001b[38;5;241;43m.\u001b[39;49m\u001b[43mconfigure\u001b[49m\u001b[43m(\u001b[49m\u001b[43m)\u001b[49m\n",
      "File \u001b[1;32mc:\\Users\\Faizan\\AppData\\Local\\Programs\\Python\\Python310\\lib\\logging\\config.py:547\u001b[0m, in \u001b[0;36mDictConfigurator.configure\u001b[1;34m(self)\u001b[0m\n\u001b[0;32m    544\u001b[0m         formatters[name] \u001b[38;5;241m=\u001b[39m \u001b[38;5;28mself\u001b[39m\u001b[38;5;241m.\u001b[39mconfigure_formatter(\n\u001b[0;32m    545\u001b[0m                                             formatters[name])\n\u001b[0;32m    546\u001b[0m     \u001b[38;5;28;01mexcept\u001b[39;00m \u001b[38;5;167;01mException\u001b[39;00m \u001b[38;5;28;01mas\u001b[39;00m e:\n\u001b[1;32m--> 547\u001b[0m         \u001b[38;5;28;01mraise\u001b[39;00m \u001b[38;5;167;01mValueError\u001b[39;00m(\u001b[38;5;124m'\u001b[39m\u001b[38;5;124mUnable to configure \u001b[39m\u001b[38;5;124m'\u001b[39m\n\u001b[0;32m    548\u001b[0m                          \u001b[38;5;124m'\u001b[39m\u001b[38;5;124mformatter \u001b[39m\u001b[38;5;132;01m%r\u001b[39;00m\u001b[38;5;124m'\u001b[39m \u001b[38;5;241m%\u001b[39m name) \u001b[38;5;28;01mfrom\u001b[39;00m \u001b[38;5;21;01me\u001b[39;00m\n\u001b[0;32m    549\u001b[0m \u001b[38;5;66;03m# Next, do filters - they don't refer to anything else, either\u001b[39;00m\n\u001b[0;32m    550\u001b[0m filters \u001b[38;5;241m=\u001b[39m config\u001b[38;5;241m.\u001b[39mget(\u001b[38;5;124m'\u001b[39m\u001b[38;5;124mfilters\u001b[39m\u001b[38;5;124m'\u001b[39m, EMPTY_DICT)\n",
      "\u001b[1;31mValueError\u001b[0m: Unable to configure formatter 'airflow'"
     ]
    }
   ],
   "source": [
    "from datetime import timedelta\n",
    "from airflow.models import DAG\n",
    "from airflow.operators.python_operator import PythonOperator\n",
    "# from airflow.utils.dates import days_ago\n",
    "import pandas as pd\n",
    "import os\n",
    "import string\n",
    "from nltk.corpus import stopwords\n",
    "from urllib.parse import urlparse\n",
    "\n",
    "# Make sure to download the stopwords set if you haven't already\n",
    "import nltk\n",
    "nltk.download('stopwords')\n",
    "stop_words = set(stopwords.words('english'))\n",
    "# Define default arguments for DAG\n",
    "default_args = {\n",
    "    'owner': 'airflow',\n",
    "    'depends_on_past': False,\n",
    "    'start_date': days_ago(1),\n",
    "    'email_on_failure': False,\n",
    "    'email_on_retry': False,\n",
    "    'retries': 1,\n",
    "    'retry_delay': timedelta(minutes=5),\n",
    "}\n",
    "\n",
    "\n",
    "\n",
    "# Define function to preprocess data\n",
    "def preprocess_data():\n",
    "    # Load the data\n",
    "    df = pd.read_csv('scraped_news.csv')\n",
    "    \n",
    "    # Function to extract domain name from URL\n",
    "    def extract_domain(link):\n",
    "        parsed_url = urlparse(link)\n",
    "        domain = parsed_url.netloc.replace('www.', '')\n",
    "        return domain.split('.')[0]\n",
    "\n",
    "    # Function to clean text in Title and Content\n",
    "    def clean_text(text):\n",
    "        # Convert text to lowercase\n",
    "        text = text.lower()\n",
    "        # Remove punctuation\n",
    "        text = text.translate(str.maketrans('', '', string.punctuation))\n",
    "        # Remove stopwords\n",
    "        text = ' '.join([word for word in text.split() if word not in stop_words])\n",
    "        return text\n",
    "\n",
    "    # Apply the function to extract source domain and clean text\n",
    "    df['source'] = df['Links'].apply(extract_domain)\n",
    "    df['Title'] = df['Title'].apply(clean_text)\n",
    "    df['Content'] = df['Content'].apply(clean_text)\n",
    "    \n",
    "    # Save the transformed data\n",
    "    df.to_csv('scraped_news_transformed.csv', index=False)\n",
    "\n",
    "# # Execute the function to preprocess data\n",
    "# preprocess_data()\n",
    "\n",
    "# Define function to upload data to Google Drive\n",
    "def upload_to_gdrive():\n",
    "    from pydrive.auth import GoogleAuth\n",
    "    from pydrive.drive import GoogleDrive\n",
    "    \n",
    "    # Authenticate and create the PyDrive client\n",
    "    gauth = GoogleAuth()\n",
    "    gauth.LocalWebserverAuth()\n",
    "    drive = GoogleDrive(gauth)\n",
    "    \n",
    "    # Create and upload a text file\n",
    "    file1 = drive.CreateFile({'title': 'scraped_news_transformed.csv'})\n",
    "    file1.SetContentFile('scraped_news_transformed.csv')\n",
    "    file1.Upload()\n",
    "    print('Created file %s with mimeType %s' % (file1['title'], file1['mimeType']))\n",
    "\n",
    "# Define function to manage DVC\n",
    "def update_dvc():\n",
    "    # Add the transformed data file to DVC tracking\n",
    "    os.system('dvc add scraped_news_transformed.csv')\n",
    "    # Commit the changes to the DVC repository\n",
    "    os.system('git add .dvc/config scraped_news_transformed.csv.dvc')\n",
    "    os.system('git commit -m \"Update data processed by Airflow DAG\"')\n",
    "    # Push the changes\n",
    "    os.system('dvc push')\n",
    "    os.system('git push')\n",
    "\n",
    "# Set up the DAG\n",
    "with DAG(\n",
    "    'data_processing_pipeline',\n",
    "    default_args=default_args,\n",
    "    description='DAG for processing and managing data using DVC and Google Drive.',\n",
    "    schedule_interval=timedelta(days=1),\n",
    "    catchup=False,\n",
    ") as dag:\n",
    "    \n",
    "    # Define tasks\n",
    "    t1 = PythonOperator(\n",
    "        task_id='preprocess_data',\n",
    "        python_callable=preprocess_data,\n",
    "    )\n",
    "    \n",
    "    t2 = PythonOperator(\n",
    "        task_id='upload_to_gdrive',\n",
    "        python_callable=upload_to_gdrive,\n",
    "    )\n",
    "    \n",
    "    t3 = PythonOperator(\n",
    "        task_id='update_dvc',\n",
    "        python_callable=update_dvc,\n",
    "    )\n",
    "    \n",
    "    # Define task dependenciesA\n",
    "    t1 >> t2 >> t3\n",
    "\n"
   ]
  },
  {
   "cell_type": "code",
   "execution_count": 20,
   "metadata": {},
   "outputs": [
    {
     "name": "stdout",
     "output_type": "stream",
     "text": [
      "Collecting dag\n",
      "  Using cached DAG-0.tar.gz (5.8 kB)\n",
      "  Preparing metadata (setup.py): started\n",
      "  Preparing metadata (setup.py): finished with status 'error'\n",
      "Note: you may need to restart the kernel to use updated packages.\n"
     ]
    },
    {
     "name": "stderr",
     "output_type": "stream",
     "text": [
      "  error: subprocess-exited-with-error\n",
      "  \n",
      "  × python setup.py egg_info did not run successfully.\n",
      "  │ exit code: 1\n",
      "  ╰─> [9 lines of output]\n",
      "      Traceback (most recent call last):\n",
      "        File \"<string>\", line 2, in <module>\n",
      "        File \"<pip-setuptools-caller>\", line 34, in <module>\n",
      "        File \"C:\\Users\\Faizan\\AppData\\Local\\Temp\\pip-install-ssinhdlt\\dag_cf983bea5bd2404fa97566e6ea818748\\setup.py\", line 1, in <module>\n",
      "          from ez_setup import use_setuptools\n",
      "        File \"C:\\Users\\Faizan\\AppData\\Local\\Temp\\pip-install-ssinhdlt\\dag_cf983bea5bd2404fa97566e6ea818748\\ez_setup.py\", line 94\n",
      "          except pkg_resources.VersionConflict, e:\n",
      "                 ^^^^^^^^^^^^^^^^^^^^^^^^^^^^^^^^\n",
      "      SyntaxError: multiple exception types must be parenthesized\n",
      "      [end of output]\n",
      "  \n",
      "  note: This error originates from a subprocess, and is likely not a problem with pip.\n",
      "error: metadata-generation-failed\n",
      "\n",
      "× Encountered error while generating package metadata.\n",
      "╰─> See above for output.\n",
      "\n",
      "note: This is an issue with the package mentioned above, not pip.\n",
      "hint: See above for details.\n",
      "\n",
      "[notice] A new release of pip is available: 23.3.1 -> 24.0\n",
      "[notice] To update, run: python.exe -m pip install --upgrade pip\n"
     ]
    }
   ],
   "source": [
    "%pip install dag\n"
   ]
  },
  {
   "cell_type": "code",
   "execution_count": null,
   "metadata": {},
   "outputs": [],
   "source": []
  }
 ],
 "metadata": {
  "kernelspec": {
   "display_name": "Python 3",
   "language": "python",
   "name": "python3"
  },
  "language_info": {
   "codemirror_mode": {
    "name": "ipython",
    "version": 3
   },
   "file_extension": ".py",
   "mimetype": "text/x-python",
   "name": "python",
   "nbconvert_exporter": "python",
   "pygments_lexer": "ipython3",
   "version": "3.10.7"
  }
 },
 "nbformat": 4,
 "nbformat_minor": 2
}
